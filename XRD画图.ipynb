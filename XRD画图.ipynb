{
 "cells": [
  {
   "cell_type": "code",
   "execution_count": 2,
   "id": "fd37fd91-7d1c-4e30-a5f5-08c4a2c72d21",
   "metadata": {},
   "outputs": [],
   "source": [
    "import pandas as pd\n",
    "import numpy as np\n",
    "import matplotlib.pyplot as plt\n"
   ]
  },
  {
   "cell_type": "code",
   "execution_count": null,
   "id": "27f84715-94e0-4f23-8fa9-376bd8737731",
   "metadata": {},
   "outputs": [],
   "source": [
    "data = pd.read_excel('XRDdata.xlsx')"
   ]
  },
  {
   "cell_type": "code",
   "execution_count": null,
   "id": "df752f78-1f60-43a9-9253-9c70b928cf98",
   "metadata": {},
   "outputs": [],
   "source": [
    "data.head()"
   ]
  },
  {
   "cell_type": "code",
   "execution_count": null,
   "id": "51f1aad3-95d9-489d-bd9a-e94e904f6098",
   "metadata": {},
   "outputs": [],
   "source": [
    "x = data['Two Theta']\n",
    "y = data['Intensity']\n",
    "fig.ax = plt.subplots()\n",
    "plt.plot(data['Two Theta'], data[’Intensity'])\n",
    "plt.xlabel('Two Theta')\n",
    "plt.ylabel('Relative Intensity')\n",
    "plt.title('XRD data')\n",
    "plt.show()"
   ]
  }
 ],
 "metadata": {
  "kernelspec": {
   "display_name": "Python 3",
   "language": "python",
   "name": "python3"
  },
  "language_info": {
   "codemirror_mode": {
    "name": "ipython",
    "version": 3
   },
   "file_extension": ".py",
   "mimetype": "text/x-python",
   "name": "python",
   "nbconvert_exporter": "python",
   "pygments_lexer": "ipython3",
   "version": "3.7.8"
  }
 },
 "nbformat": 4,
 "nbformat_minor": 5
}
